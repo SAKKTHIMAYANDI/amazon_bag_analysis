{
 "cells": [
  {
   "cell_type": "code",
   "execution_count": 1,
   "id": "ab86ef45",
   "metadata": {},
   "outputs": [],
   "source": [
    "#2\n",
    "import sqlite3"
   ]
  },
  {
   "cell_type": "code",
   "execution_count": 2,
   "id": "f98a81ff",
   "metadata": {},
   "outputs": [],
   "source": [
    "def __init__db():\n",
    "    connection = sqlite3.connect(\"LBMS.db\")\n",
    "    cursor =  connection.cursor()\n",
    "    print(\"Database connection established successfully\")\n",
    "    create_table(cursor) \n",
    "    return (connection,cursor)"
   ]
  },
  {
   "cell_type": "code",
   "execution_count": 3,
   "id": "cdf5fd3b",
   "metadata": {},
   "outputs": [],
   "source": [
    "def term_db(connection):\n",
    "    connection.close()\n",
    "    print(\"Database connection de-established successfully\")\n"
   ]
  },
  {
   "cell_type": "code",
   "execution_count": 4,
   "id": "85920dff",
   "metadata": {},
   "outputs": [],
   "source": [
    "def create_table(cursor):\n",
    "    sql_command = '''CREATE TABLE if not exists books (\n",
    "        title text,\n",
    "        author text,\n",
    "        year decimal,\n",
    "        ISBN INTEGER,\n",
    "        unique (title, author, year, ISBN)\n",
    "    )'''\n",
    "    cursor.execute(sql_command)  "
   ]
  },
  {
   "cell_type": "code",
   "execution_count": 5,
   "id": "b05e0905",
   "metadata": {},
   "outputs": [],
   "source": [
    "def read_table(cursor):\n",
    "\n",
    "    sql_command = \"SELECT * FROM books\"\n",
    "    cursor.execute(sql_command)  \n",
    "    data = cursor.fetchall()\n",
    "    return(data)\n",
    "\n",
    "\n",
    "def add_to_table(cursor, title, author, year, isbn):\n",
    "    \n",
    "    sql_command = f\"INSERT INTO books VALUES ('{title}', '{author}', {year}, {isbn});\"\n",
    "    try:\n",
    "        cursor.execute(sql_command)\n",
    "        return(0, \"success\")\n",
    "    except sqlite3.IntegrityError as e:\n",
    "        return(111, e)\n",
    "    except sqlite3.OperationalError as e:\n",
    "        return(112, e)"
   ]
  },
  {
   "cell_type": "code",
   "execution_count": 6,
   "id": "2c2bfe58",
   "metadata": {},
   "outputs": [],
   "source": [
    "def remove_from_table(cursor, title, author, year, isbn):\n",
    "    try:\n",
    "        sql_command = f'''DELETE FROM books WHERE title=\"{title}\";'''\n",
    "        cursor.execute(sql_command)\n",
    "        sql_command = f'''DELETE FROM books WHERE author=\"{author}\";'''\n",
    "        cursor.execute(sql_command)\n",
    "        sql_command = f'''DELETE FROM books WHERE year=\"{year}\";'''\n",
    "        cursor.execute(sql_command)\n",
    "        sql_command = f'''DELETE FROM books WHERE isbn=\"{isbn}\";'''\n",
    "        cursor.execute(sql_command)\n",
    "    except:\n",
    "        return(-1)"
   ]
  },
  {
   "cell_type": "code",
   "execution_count": 7,
   "id": "6f58d893",
   "metadata": {},
   "outputs": [],
   "source": [
    "def search_from_table(cursor, title, author, year, isbn):\n",
    "   \n",
    "    try:\n",
    "        cursor.execute(\"SELECT * FROM books WHERE title=?\", (title,))\n",
    "        searched_titles = cursor.fetchall()\n",
    "        cursor.execute(\"SELECT * FROM books WHERE author=?\", (author,))\n",
    "        searched_authors = cursor.fetchall()\n",
    "        cursor.execute(\"SELECT * FROM books WHERE year=?\", (year,))\n",
    "        searched_years = cursor.fetchall()\n",
    "        cursor.execute(\"SELECT * FROM books WHERE ISBN=?\", (isbn,))\n",
    "        searched_isbns = cursor.fetchall()\n",
    "        return(searched_titles + searched_authors + searched_years + searched_isbns)\n",
    "    except:\n",
    "        return(-1)\n",
    "\n",
    "\n",
    "def save_changes(connection):\n",
    "    \n",
    "    connection.commit()"
   ]
  },
  {
   "cell_type": "code",
   "execution_count": 8,
   "id": "76f45e5b",
   "metadata": {},
   "outputs": [],
   "source": [
    "def list_all_books(listArea):\n",
    "    connection, cursor = init_db()\n",
    "    print(\"listing books\")\n",
    "    books = read_table(cursor)\n",
    "    listArea.delete('0','end')\n",
    "    for i in range(len(books)):\n",
    "        listArea.insert(i,f\"{books[i][0]}, {books[i][1]}, {books[i][2]}, {books[i][3]}\")\n",
    "    term_db(connection)"
   ]
  },
  {
   "cell_type": "code",
   "execution_count": 9,
   "id": "4ab4411a",
   "metadata": {},
   "outputs": [],
   "source": [
    "def search_book(listArea, title, author, year, isbn):\n",
    "    connection, cursor = init_db()\n",
    "    print(\"search book\")\n",
    "    title = title.get()\n",
    "    author = author.get()\n",
    "    year = year.get()\n",
    "    isbn = isbn.get()\n",
    "    res = search_from_table(cursor, title, author, year, isbn)\n",
    "    if res==-1:\n",
    "        messagebox.showerror(\"Error!\", \"something went wrong!\")\n",
    "    if res!=-1:\n",
    "        listArea.delete('0','end')\n",
    "        for i in range(len(res)):\n",
    "            listArea.insert(i,res[i])  \n",
    "    term_db(connection)"
   ]
  },
  {
   "cell_type": "code",
   "execution_count": 10,
   "id": "ab25faeb",
   "metadata": {},
   "outputs": [],
   "source": [
    "def add_book(title, author, year, isbn):\n",
    "    connection, cursor = init_db()\n",
    "    print(\"adding book\")\n",
    "    title = title.get()\n",
    "    author = author.get()\n",
    "    year = year.get()\n",
    "    isbn = isbn.get()\n",
    "    code, error = add_to_table(cursor, title, author, year, isbn)\n",
    "    if code==111:\n",
    "        messagebox.showerror(\"Error!\", f\"Book Already Exists!\\n\\nerror code: {code}\\nerror:{error}\")\n",
    "    if code==112:\n",
    "        messagebox.showerror(\"Error!\", f\"Please, fill in the input fields appropriately.\\n\\ntitle: string, author: string, year: integer, year: integer.\\n\\nerror code: {code}\\nerror:{error}\")\n",
    "    save_changes(connection)\n",
    "    term_db(connection)\n"
   ]
  },
  {
   "cell_type": "code",
   "execution_count": 11,
   "id": "01073f92",
   "metadata": {},
   "outputs": [],
   "source": [
    "def issue_book(title, author, year, isbn):\n",
    "    connection, cursor = init_db()\n",
    "    print(\"issue book\")\n",
    "    messagebox.showwarning(\"Undefined\", \"this function is not yet defined!\")\n",
    "    term_db(connection)"
   ]
  },
  {
   "cell_type": "code",
   "execution_count": 12,
   "id": "25e4e91b",
   "metadata": {},
   "outputs": [],
   "source": [
    "def delete_book(title, author, year, isbn):\n",
    "    connection, cursor = init_db()\n",
    "    print(\"delete book\")\n",
    "    title = title.get()\n",
    "    author = author.get()\n",
    "    year = year.get()\n",
    "    isbn = isbn.get()\n",
    "    code = remove_from_table(cursor, title, author, year, isbn)\n",
    "    if code==-1:\n",
    "        messagebox.showerror(\"Error!\", \"something went wrong!\")\n",
    "    messagebox.showinfo(\"Deleted!\", f\"Deleted the book: {title}, {author}, {year}, {isbn}\")        \n",
    "    save_changes(connection)\n",
    "    term_db(connection)\n"
   ]
  },
  {
   "cell_type": "code",
   "execution_count": 18,
   "id": "8b773e88",
   "metadata": {},
   "outputs": [
    {
     "name": "stdout",
     "output_type": "stream",
     "text": [
      "GUI loop INITIATING\n"
     ]
    },
    {
     "name": "stderr",
     "output_type": "stream",
     "text": [
      "Exception in Tkinter callback\n",
      "Traceback (most recent call last):\n",
      "  File \"C:\\Anaconda3\\lib\\tkinter\\__init__.py\", line 1921, in __call__\n",
      "    return self.func(*args)\n",
      "  File \"C:\\Users\\Sakthi\\AppData\\Local\\Temp\\ipykernel_11860\\3353563413.py\", line 30, in <lambda>\n",
      "    list_all_btn = Button(root, text=\"List All\", command=lambda:list_all_books(listArea))\n",
      "  File \"C:\\Users\\Sakthi\\AppData\\Local\\Temp\\ipykernel_11860\\1860388818.py\", line 2, in list_all_books\n",
      "    connection, cursor = init_db()\n",
      "NameError: name 'init_db' is not defined\n"
     ]
    },
    {
     "name": "stdout",
     "output_type": "stream",
     "text": [
      "GUI loop TERMINATED\n"
     ]
    }
   ],
   "source": [
    "from tkinter import *\n",
    "from tkinter import ttk\n",
    "from tkinter import messagebox\n",
    "\n",
    "def gui():\n",
    "    # 1. root\n",
    "    root = Tk()\n",
    "    root.title('Library Book Management System')\n",
    "\n",
    "    # 2. widgets\n",
    "    title = StringVar()\n",
    "    author = StringVar()\n",
    "    year = StringVar()\n",
    "    isbn = StringVar()\n",
    "\n",
    "    title_label = Label(root, text=\"title:\", padx=10)\n",
    "    author_label = Label(root, text=\"author:\", padx=10)\n",
    "    year_label = Label(root, text=\"year:\", padx=10)\n",
    "    isbn_label = Label(root, text=\"isbn:\", padx=10)\n",
    "\n",
    "    title_entry = Entry(root, textvariable=title)\n",
    "    author_entry = Entry(root, textvariable=author)\n",
    "    year_entry = Entry(root, textvariable=year)\n",
    "    isbn_entry = Entry(root, textvariable=isbn)\n",
    "\n",
    "\n",
    "    scrollbar = Scrollbar(root, orient='horizontal')\n",
    "    listArea = Listbox(root, bg='white', width=100, yscrollcommand=scrollbar.set)\n",
    "\n",
    "    list_all_btn = Button(root, text=\"List All\", command=lambda:list_all_books(listArea))\n",
    "    search_btn = Button(root, text=\"Search\", command=lambda:search_book(listArea, title, author, year, isbn))\n",
    "    add_btn = Button(root, text=\"Add\", command=lambda:add_book(title, author, year, isbn))\n",
    "    issue_btn = Button(root, text=\"Issue\", command=lambda:issue_book(title, author, year, isbn))\n",
    "    del_btn = Button(root, text=\"delete\", command=lambda:delete_book(title, author, year, isbn))\n",
    "    exit_btn = Button(root, text=\"Exit\", command=root.destroy)\n",
    "\n",
    "    scrollbar.config(command=listArea.yview)\n",
    "\n",
    "    title_label.grid(row=0, column=0)\n",
    "    author_label.grid(row=0, column=2)\n",
    "    year_label.grid(row=0, column=4)\n",
    "    isbn_label.grid(row=0, column=6)\n",
    "\n",
    "\n",
    "    title_entry.grid(row=0, column=1)\n",
    "    author_entry.grid(row=0, column=3)\n",
    "    year_entry.grid(row=0, column=5)\n",
    "    isbn_entry.grid(row=0, column=7)\n",
    "\n",
    "    listArea.grid(row=1, column=0, columnspan=8, sticky=\"nsew\")\n",
    "    scrollbar.grid(row=1, column=9, sticky=\"ns\")\n",
    "\n",
    "    list_all_btn.grid(row=2, column=0)\n",
    "    search_btn.grid(row=2, column=1)\n",
    "    add_btn.grid(row=2, column=2)\n",
    "    issue_btn.grid(row=2, column=3)\n",
    "    del_btn.grid(row=2, column=4)\n",
    "    exit_btn.grid(row=2, column=7)\n",
    "    print(\"GUI loop INITIATING\")\n",
    "    root.mainloop()\n",
    "    print(\"GUI loop TERMINATED\")\n",
    " \n",
    "\n",
    "gui()"
   ]
  },
  {
   "cell_type": "code",
   "execution_count": null,
   "id": "c3c37dac",
   "metadata": {},
   "outputs": [],
   "source": []
  },
  {
   "cell_type": "code",
   "execution_count": null,
   "id": "3d352b22",
   "metadata": {},
   "outputs": [],
   "source": []
  }
 ],
 "metadata": {
  "kernelspec": {
   "display_name": "Python 3 (ipykernel)",
   "language": "python",
   "name": "python3"
  },
  "language_info": {
   "codemirror_mode": {
    "name": "ipython",
    "version": 3
   },
   "file_extension": ".py",
   "mimetype": "text/x-python",
   "name": "python",
   "nbconvert_exporter": "python",
   "pygments_lexer": "ipython3",
   "version": "3.10.9"
  }
 },
 "nbformat": 4,
 "nbformat_minor": 5
}
