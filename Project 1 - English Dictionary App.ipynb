{
 "cells": [
  {
   "cell_type": "code",
   "execution_count": 1,
   "id": "389931a3",
   "metadata": {},
   "outputs": [],
   "source": [
    "import json\n",
    "import os.path"
   ]
  },
  {
   "cell_type": "code",
   "execution_count": 2,
   "id": "6235d0b2",
   "metadata": {},
   "outputs": [],
   "source": [
    "    def save_D(temp_d):\n",
    "        try:\n",
    "            with open('Words.txt','wb') as Dic:\n",
    "                json.dump(temp_d,Dic)\n",
    "            print('successfully writed')\n",
    "        except Exception as e:\n",
    "            print(f\"ERROR: {e}\")\n"
   ]
  },
  {
   "cell_type": "code",
   "execution_count": 3,
   "id": "c75c0ea6",
   "metadata": {},
   "outputs": [],
   "source": [
    "def get_D():\n",
    "    try:\n",
    "        with open('words.txt','rb') as Dic:\n",
    "            temp_d = json.load(Dic)\n",
    "        print('successfully readed')\n",
    "    except Exception as e:\n",
    "        print(f\"ERROR: {e}\")"
   ]
  },
  {
   "cell_type": "code",
   "execution_count": 4,
   "id": "5652a2ad",
   "metadata": {},
   "outputs": [],
   "source": [
    "def add_new_w():\n",
    "    print(\"__________\")\n",
    "    print(\"NEW WORD ADDER:\")\n",
    "    print(\"__________\")\n",
    "    print(\"Enter a Word to add\")\n",
    "    word = input(\">>\")\n",
    "    print(f\"Enter a meaning of {word} to add\")\n",
    "    meaning = input(\">>\")\n",
    "    Dic = get_D()\n",
    "    Dic[word] = meaning\n",
    "    save_D(Dic)\n",
    "    \n",
    "    main_menu()"
   ]
  },
  {
   "cell_type": "code",
   "execution_count": 5,
   "id": "45a687c8",
   "metadata": {},
   "outputs": [],
   "source": [
    "def find_m():\n",
    "    print(\"__________\")\n",
    "    print(\"WORD FINDER:\")\n",
    "    print(\"__________\")\n",
    "    print(\"Enter a Word to find\")\n",
    "    word = input(\">>\")\n",
    "    Dic = get_D()\n",
    "  \n",
    "    if word in Dic:\n",
    "        print(f\"Found Entry: [{word} : {Dic[word]}]\")\n",
    "    else:\n",
    "        print(\"ERROR: The word doesn't exist!\")\n",
    "        findMeaning()\n",
    "\n",
    "    main_menu()"
   ]
  },
  {
   "cell_type": "code",
   "execution_count": 6,
   "id": "7bc87a34",
   "metadata": {},
   "outputs": [],
   "source": [
    "def update_w():\n",
    "    print(\"__________\")\n",
    "    print(\"WORD UPDATER:\")\n",
    "    print(\"__________\")\n",
    "    print(\"Enter an old Word to edit\")\n",
    "    word = input(\">>\")\n",
    "  \n",
    "    Dic = get_D()\n",
    "    if word in Dic:\n",
    "        print(f\"Enter a New Meaning to edit [{word} : {Dic[word]}] to:\")\n",
    "        new_meaning = input(\">>\")\n",
    "        Dic[word] = new_meaning\n",
    "        save_D(Dic)\n",
    "        print(f\"SUCCESS: Updated to [{word} : {Dic[word]}]\")\n",
    "    else:\n",
    "        print(\"ERROR: The word doesn't exist! impossible to update!\")\n",
    "        updateWord()\n",
    "\n",
    "    main_menu()"
   ]
  },
  {
   "cell_type": "code",
   "execution_count": 13,
   "id": "5f096ff1",
   "metadata": {},
   "outputs": [
    {
     "name": "stdout",
     "output_type": "stream",
     "text": [
      "__________\n",
      "ENGLISH DICTIONARY APP\n",
      "__________\n",
      "1. Add a new word\n",
      "2. Find the meaning\n",
      "3. Update a word\n",
      "4. Exit\n",
      "__________\n",
      ">>2\n",
      "***************************************************************************\n",
      "New Word finder: \n",
      "***************************************************************************\n",
      "Enter the word to find\n",
      ">>power\n",
      "Expecting value: line 1 column 1 (char 0)\n"
     ]
    },
    {
     "ename": "TypeError",
     "evalue": "argument of type 'NoneType' is not iterable",
     "output_type": "error",
     "traceback": [
      "\u001b[1;31m---------------------------------------------------------------------------\u001b[0m",
      "\u001b[1;31mTypeError\u001b[0m                                 Traceback (most recent call last)",
      "Cell \u001b[1;32mIn[13], line 32\u001b[0m\n\u001b[0;32m     27\u001b[0m         \u001b[38;5;28mprint\u001b[39m(\u001b[38;5;124m\"\u001b[39m\u001b[38;5;124mERROR: Please Enter a digit according to Menu.\u001b[39m\u001b[38;5;124m\"\u001b[39m)\n\u001b[0;32m     28\u001b[0m         main_menu()\n\u001b[1;32m---> 32\u001b[0m \u001b[43mmain_menu\u001b[49m\u001b[43m(\u001b[49m\u001b[43m)\u001b[49m\n",
      "Cell \u001b[1;32mIn[13], line 21\u001b[0m, in \u001b[0;36mmain_menu\u001b[1;34m()\u001b[0m\n\u001b[0;32m     19\u001b[0m     add_new_w()\n\u001b[0;32m     20\u001b[0m \u001b[38;5;28;01melif\u001b[39;00m n\u001b[38;5;241m==\u001b[39m\u001b[38;5;241m2\u001b[39m:\n\u001b[1;32m---> 21\u001b[0m     \u001b[43mfind_m\u001b[49m\u001b[43m(\u001b[49m\u001b[43m)\u001b[49m\n\u001b[0;32m     22\u001b[0m \u001b[38;5;28;01melif\u001b[39;00m n\u001b[38;5;241m==\u001b[39m\u001b[38;5;241m3\u001b[39m:\n\u001b[0;32m     23\u001b[0m     update_w()\n",
      "Cell \u001b[1;32mIn[5], line 8\u001b[0m, in \u001b[0;36mfind_m\u001b[1;34m()\u001b[0m\n\u001b[0;32m      6\u001b[0m word \u001b[38;5;241m=\u001b[39m \u001b[38;5;28minput\u001b[39m(\u001b[38;5;124m'\u001b[39m\u001b[38;5;124m>>\u001b[39m\u001b[38;5;124m'\u001b[39m)\n\u001b[0;32m      7\u001b[0m Dic \u001b[38;5;241m=\u001b[39m get_D()\n\u001b[1;32m----> 8\u001b[0m \u001b[38;5;28;01mif\u001b[39;00m \u001b[43mword\u001b[49m\u001b[43m \u001b[49m\u001b[38;5;129;43;01min\u001b[39;49;00m\u001b[43m \u001b[49m\u001b[43mDic\u001b[49m:\n\u001b[0;32m      9\u001b[0m     \u001b[38;5;28mprint\u001b[39m(\u001b[38;5;124m'\u001b[39m\u001b[38;5;124mfound to Entry\u001b[39m\u001b[38;5;124m'\u001b[39m,word,\u001b[38;5;124m'\u001b[39m\u001b[38;5;124m:\u001b[39m\u001b[38;5;124m'\u001b[39m,Dic)\n\u001b[0;32m     10\u001b[0m \u001b[38;5;28;01melse\u001b[39;00m:\n",
      "\u001b[1;31mTypeError\u001b[0m: argument of type 'NoneType' is not iterable"
     ]
    }
   ],
   "source": [
    "def main_menu():\n",
    "    if not os.path.exists(os.path.join(\"words.txt\")):\n",
    "        try:\n",
    "            with open('words.txt', 'wb') as dictionary:\n",
    "                pickle.dump({}, dictionary)\n",
    "            print(\"SUCCESS: writing to dictionary words.txt\")\n",
    "        except Exception as e:\n",
    "            print(f\"ERROR: {e}\")\n",
    "    print(\"__________\")\n",
    "    print(\"ENGLISH DICTIONARY APP\")\n",
    "    print(\"__________\")\n",
    "    print(\"1. Add a new word\")\n",
    "    print(\"2. Find the meaning\")\n",
    "    print(\"3. Update a word\")\n",
    "    print(\"4. Exit\")\n",
    "    print(\"__________\")\n",
    "    n = int(input(\">>\"))\n",
    "    if n==1:\n",
    "        add_new_w()\n",
    "    elif n==2:\n",
    "        find_m()\n",
    "    elif n==3:\n",
    "        update_w()\n",
    "    elif n==4:\n",
    "        exit()\n",
    "    else:\n",
    "        print(\"ERROR: Please Enter a digit according to Menu.\")\n",
    "        main_menu()\n",
    "    \n",
    "\n",
    "    \n",
    "main_menu()"
   ]
  },
  {
   "cell_type": "code",
   "execution_count": null,
   "id": "6d96d020",
   "metadata": {},
   "outputs": [],
   "source": []
  }
 ],
 "metadata": {
  "kernelspec": {
   "display_name": "Python 3 (ipykernel)",
   "language": "python",
   "name": "python3"
  },
  "language_info": {
   "codemirror_mode": {
    "name": "ipython",
    "version": 3
   },
   "file_extension": ".py",
   "mimetype": "text/x-python",
   "name": "python",
   "nbconvert_exporter": "python",
   "pygments_lexer": "ipython3",
   "version": "3.10.9"
  }
 },
 "nbformat": 4,
 "nbformat_minor": 5
}
